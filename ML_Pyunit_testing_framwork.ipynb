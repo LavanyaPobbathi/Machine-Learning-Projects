{
  "nbformat": 4,
  "nbformat_minor": 0,
  "metadata": {
    "colab": {
      "provenance": []
    },
    "kernelspec": {
      "name": "python3",
      "display_name": "Python 3"
    },
    "language_info": {
      "name": "python"
    }
  },
  "cells": [
    {
      "cell_type": "code",
      "execution_count": null,
      "metadata": {
        "colab": {
          "base_uri": "https://localhost:8080/"
        },
        "id": "DNaT_TfsNbvt",
        "outputId": "66091734-eaa8-4398-a241-74e464e53539"
      },
      "outputs": [
        {
          "output_type": "stream",
          "name": "stderr",
          "text": [
            "test_predict (__main__.TestLogisticRegression) ... ok\n",
            "\n",
            "----------------------------------------------------------------------\n",
            "Ran 1 test in 0.016s\n",
            "\n",
            "OK\n"
          ]
        }
      ],
      "source": [
        "#A basic test case for logistic regression in Python using the PyUnit testing framework:\n",
        "\n",
        "\n",
        "import unittest\n",
        "from sklearn.linear_model import LogisticRegression\n",
        "\n",
        "class TestLogisticRegression(unittest.TestCase):\n",
        "\n",
        "    def test_predict(self):\n",
        "        # Create a logistic regression model\n",
        "        lr = LogisticRegression(random_state=0)\n",
        "\n",
        "        # Define some example data for testing\n",
        "        X_train = [[1, 2], [2, 4], [3, 6], [4, 8]]\n",
        "        y_train = [0, 0, 1, 1]\n",
        "\n",
        "        X_test = [[1, 3], [2, 5], [3, 7], [4, 9]]\n",
        "        y_test = [0, 0, 1, 1]\n",
        "\n",
        "        # Fit the model to the training data\n",
        "        lr.fit(X_train, y_train)\n",
        "\n",
        "        # Test the model's predictions on the test data\n",
        "        y_pred = lr.predict(X_test)\n",
        "\n",
        "        # Compare the predicted values to the expected values\n",
        "        self.assertEqual(list(y_pred), y_test)\n",
        "\n",
        "if __name__ == '__main__':\n",
        "    unittest.main(argv=[''],defaultTest = 'TestLogisticRegression', verbosity = 2, exit=False)\n"
      ]
    },
    {
      "cell_type": "code",
      "source": [
        "#A basic test case for a Random Forest model in Python using the PyUnit testing framework:\n",
        "\n",
        "import unittest\n",
        "from sklearn.ensemble import RandomForestClassifier\n",
        "\n",
        "class TestRandomForest(unittest.TestCase):\n",
        "\n",
        "    def test_predict(self):\n",
        "        # Create a random forest classifier with fixed parameters\n",
        "        rf = RandomForestClassifier(n_estimators=100, random_state=0)\n",
        "\n",
        "        # Define some example data for testing\n",
        "        X_train = [[1, 2], [2, 4], [3, 6], [4, 8]]\n",
        "        y_train = [0, 0, 1, 1]\n",
        "\n",
        "        X_test = [[1, 3], [2, 5], [3, 7], [4, 9]]\n",
        "        y_test = [0, 0, 1, 1]\n",
        "\n",
        "        # Fit the model to the training data\n",
        "        rf.fit(X_train, y_train)\n",
        "\n",
        "        # Test the model's predictions on the test data\n",
        "        y_pred = rf.predict(X_test)\n",
        "\n",
        "        # Compare the predicted values to the expected values\n",
        "        self.assertEqual(list(y_pred), y_test)\n",
        "\n",
        "if __name__ == '__main__':\n",
        "    unittest.main(argv=[''],defaultTest = 'TestRandomForest', verbosity = 2, exit=False)\n",
        "\n"
      ],
      "metadata": {
        "colab": {
          "base_uri": "https://localhost:8080/"
        },
        "id": "tH6x-aaYQVIR",
        "outputId": "72fa44c7-26ef-4a38-c25f-f04841e726f9"
      },
      "execution_count": null,
      "outputs": [
        {
          "output_type": "stream",
          "name": "stderr",
          "text": [
            "test_predict (__main__.TestRandomForest) ... ok\n",
            "\n",
            "----------------------------------------------------------------------\n",
            "Ran 1 test in 0.108s\n",
            "\n",
            "OK\n"
          ]
        }
      ]
    },
    {
      "cell_type": "code",
      "source": [
        "\n",
        "\n",
        "# Import necessary libraries\n",
        "import keras\n",
        "from keras.datasets import mnist\n",
        "from keras.models import Sequential\n",
        "from keras.layers import Dense, Conv2D, MaxPooling2D, Flatten\n",
        "\n",
        "# Load the dataset\n",
        "(x_train, y_train), (x_test, y_test) = mnist.load_data()\n",
        "\n",
        "# Preprocess the data\n",
        "x_train = x_train.reshape(x_train.shape[0], 28, 28, 1)\n",
        "x_test = x_test.reshape(x_test.shape[0], 28, 28, 1)\n",
        "input_shape = (28, 28, 1)\n",
        "x_train = x_train.astype('float32')\n",
        "x_test = x_test.astype('float32')\n",
        "x_train /= 255\n",
        "x_test /= 255\n",
        "num_classes = 10\n",
        "y_train = keras.utils.to_categorical(y_train, num_classes)\n",
        "y_test = keras.utils.to_categorical(y_test, num_classes)\n",
        "\n",
        "# Create the CNN model\n",
        "model = Sequential()\n",
        "model.add(Conv2D(32, kernel_size=(3, 3), activation='relu', input_shape=input_shape))\n",
        "model.add(MaxPooling2D(pool_size=(2, 2)))\n",
        "model.add(Conv2D(64, (3, 3), activation='relu'))\n",
        "model.add(MaxPooling2D(pool_size=(2, 2)))\n",
        "model.add(Flatten())\n",
        "model.add(Dense(128, activation='relu'))\n",
        "model.add(Dense(num_classes, activation='softmax'))\n",
        "\n",
        "# Compile the model\n",
        "model.compile(loss=keras.losses.categorical_crossentropy, optimizer=keras.optimizers.Adam(), metrics=['accuracy'])\n",
        "\n",
        "# Train the model\n",
        "model.fit(x_train, y_train, batch_size=128, epochs=10, validation_data=(x_test, y_test))\n",
        "\n",
        "# Evaluate the model\n",
        "score = model.evaluate(x_test, y_test, verbose=0)\n",
        "print('Test loss:', score[0])\n",
        "print('Test accuracy:', score[1])\n"
      ],
      "metadata": {
        "colab": {
          "base_uri": "https://localhost:8080/"
        },
        "id": "rO47QBnGMuj3",
        "outputId": "abe52f68-6e23-43d0-83fc-758cff3b4b37"
      },
      "execution_count": null,
      "outputs": [
        {
          "output_type": "stream",
          "name": "stdout",
          "text": [
            "Downloading data from https://storage.googleapis.com/tensorflow/tf-keras-datasets/mnist.npz\n",
            "11490434/11490434 [==============================] - 0s 0us/step\n",
            "Epoch 1/10\n",
            "469/469 [==============================] - 56s 117ms/step - loss: 0.1947 - accuracy: 0.9440 - val_loss: 0.0540 - val_accuracy: 0.9825\n",
            "Epoch 2/10\n",
            "469/469 [==============================] - 53s 113ms/step - loss: 0.0540 - accuracy: 0.9829 - val_loss: 0.0534 - val_accuracy: 0.9826\n",
            "Epoch 3/10\n",
            "469/469 [==============================] - 53s 112ms/step - loss: 0.0363 - accuracy: 0.9890 - val_loss: 0.0347 - val_accuracy: 0.9883\n",
            "Epoch 4/10\n",
            "469/469 [==============================] - 56s 120ms/step - loss: 0.0288 - accuracy: 0.9907 - val_loss: 0.0329 - val_accuracy: 0.9900\n",
            "Epoch 5/10\n",
            "469/469 [==============================] - 55s 116ms/step - loss: 0.0214 - accuracy: 0.9934 - val_loss: 0.0281 - val_accuracy: 0.9906\n",
            "Epoch 6/10\n",
            "469/469 [==============================] - 57s 122ms/step - loss: 0.0178 - accuracy: 0.9941 - val_loss: 0.0294 - val_accuracy: 0.9903\n",
            "Epoch 7/10\n",
            "469/469 [==============================] - 59s 126ms/step - loss: 0.0138 - accuracy: 0.9954 - val_loss: 0.0304 - val_accuracy: 0.9910\n",
            "Epoch 8/10\n",
            "469/469 [==============================] - 53s 113ms/step - loss: 0.0112 - accuracy: 0.9966 - val_loss: 0.0381 - val_accuracy: 0.9890\n",
            "Epoch 9/10\n",
            "469/469 [==============================] - 54s 115ms/step - loss: 0.0093 - accuracy: 0.9970 - val_loss: 0.0427 - val_accuracy: 0.9887\n",
            "Epoch 10/10\n",
            "469/469 [==============================] - 53s 112ms/step - loss: 0.0081 - accuracy: 0.9973 - val_loss: 0.0283 - val_accuracy: 0.9917\n",
            "Test loss: 0.02830398827791214\n",
            "Test accuracy: 0.9916999936103821\n"
          ]
        }
      ]
    },
    {
      "cell_type": "markdown",
      "source": [
        "The Below code builds a simple CNN for classifying the MNIST handwritten digit dataset. The model has two convolutional layers with max pooling, followed by a fully connected layer and a softmax output layer. The model is trained using the Adam optimizer and categorical cross-entropy loss, and evaluated on the test set.\n",
        "\n",
        "\n",
        "\n",
        "Below code builds a simple CNN for classifying the MNIST handwritten digit dataset. The model has two convolutional layers with max pooling, followed by a fully connected layer and a softmax output layer. The model is trained using the Adam optimizer and categorical cross-entropy loss, and evaluated on the test set."
      ],
      "metadata": {
        "id": "gRKzpQg5RSYI"
      }
    },
    {
      "cell_type": "code",
      "source": [
        "import unittest\n",
        "import keras\n",
        "from keras.datasets import mnist\n",
        "from keras.models import Sequential\n",
        "from keras.layers import Dense, Conv2D, MaxPooling2D, Flatten\n",
        "\n",
        "class TestCNN(unittest.TestCase):\n",
        "\n",
        "    def setUp(self):\n",
        "        # Load the dataset\n",
        "        (self.x_train, self.y_train), (self.x_test, self.y_test) = mnist.load_data()\n",
        "\n",
        "        # Preprocess the data\n",
        "        self.x_train = self.x_train.reshape(self.x_train.shape[0], 28, 28, 1)\n",
        "        self.x_test = self.x_test.reshape(self.x_test.shape[0], 28, 28, 1)\n",
        "        self.input_shape = (28, 28, 1)\n",
        "        self.x_train = self.x_train.astype('float32')\n",
        "        self.x_test = self.x_test.astype('float32')\n",
        "        self.x_train /= 255\n",
        "        self.x_test /= 255\n",
        "        self.num_classes = 10\n",
        "        self.y_train = keras.utils.to_categorical(self.y_train, self.num_classes)\n",
        "        self.y_test = keras.utils.to_categorical(self.y_test, self.num_classes)\n",
        "\n",
        "        # Create the CNN model\n",
        "        self.model = Sequential()\n",
        "        self.model.add(Conv2D(32, kernel_size=(3, 3), activation='relu', input_shape=self.input_shape))\n",
        "        self.model.add(MaxPooling2D(pool_size=(2, 2)))\n",
        "        self.model.add(Conv2D(64, (3, 3), activation='relu'))\n",
        "        self.model.add(MaxPooling2D(pool_size=(2, 2)))\n",
        "        self.model.add(Flatten())\n",
        "        self.model.add(Dense(128, activation='relu'))\n",
        "        self.model.add(Dense(self.num_classes, activation='softmax'))\n",
        "\n",
        "        # Compile the model\n",
        "        self.model.compile(loss=keras.losses.categorical_crossentropy, optimizer=keras.optimizers.Adam(), metrics=['accuracy'])\n",
        "\n",
        "    def test_model_training(self):\n",
        "        # Train the model\n",
        "        self.model.fit(self.x_train, self.y_train, batch_size=128, epochs=10, validation_data=(self.x_test, self.y_test))\n",
        "\n",
        "        # Evaluate the model\n",
        "        score = self.model.evaluate(self.x_test, self.y_test, verbose=0)\n",
        "        self.assertGreater(score[1], 0.8)  # assert that accuracy is greater than 0.8\n",
        "\n",
        "\n",
        "if __name__ == '__main__':\n",
        "    unittest.main(argv=[''],defaultTest = 'TestCNN', verbosity = 2, exit=False)\n"
      ],
      "metadata": {
        "colab": {
          "base_uri": "https://localhost:8080/"
        },
        "id": "rbzC9eerOCwa",
        "outputId": "45ba947c-41e2-4456-85d7-b8e0037d15a4"
      },
      "execution_count": null,
      "outputs": [
        {
          "output_type": "stream",
          "name": "stderr",
          "text": [
            "test_model_training (__main__.TestCNN) ... "
          ]
        },
        {
          "output_type": "stream",
          "name": "stdout",
          "text": [
            "Epoch 1/10\n",
            "469/469 [==============================] - 53s 111ms/step - loss: 0.2080 - accuracy: 0.9373 - val_loss: 0.0582 - val_accuracy: 0.9824\n",
            "Epoch 2/10\n",
            "469/469 [==============================] - 51s 110ms/step - loss: 0.0587 - accuracy: 0.9814 - val_loss: 0.0392 - val_accuracy: 0.9862\n",
            "Epoch 3/10\n",
            "469/469 [==============================] - 53s 112ms/step - loss: 0.0392 - accuracy: 0.9882 - val_loss: 0.0356 - val_accuracy: 0.9884\n",
            "Epoch 4/10\n",
            "469/469 [==============================] - 52s 110ms/step - loss: 0.0303 - accuracy: 0.9909 - val_loss: 0.0323 - val_accuracy: 0.9882\n",
            "Epoch 5/10\n",
            "469/469 [==============================] - 52s 111ms/step - loss: 0.0243 - accuracy: 0.9928 - val_loss: 0.0309 - val_accuracy: 0.9905\n",
            "Epoch 6/10\n",
            "469/469 [==============================] - 53s 114ms/step - loss: 0.0195 - accuracy: 0.9935 - val_loss: 0.0301 - val_accuracy: 0.9898\n",
            "Epoch 7/10\n",
            "469/469 [==============================] - 53s 112ms/step - loss: 0.0158 - accuracy: 0.9949 - val_loss: 0.0328 - val_accuracy: 0.9904\n",
            "Epoch 8/10\n",
            "469/469 [==============================] - 52s 110ms/step - loss: 0.0136 - accuracy: 0.9955 - val_loss: 0.0280 - val_accuracy: 0.9904\n",
            "Epoch 9/10\n",
            "469/469 [==============================] - 51s 109ms/step - loss: 0.0106 - accuracy: 0.9965 - val_loss: 0.0329 - val_accuracy: 0.9901\n",
            "Epoch 10/10\n",
            "469/469 [==============================] - 51s 110ms/step - loss: 0.0086 - accuracy: 0.9973 - val_loss: 0.0348 - val_accuracy: 0.9903\n"
          ]
        },
        {
          "output_type": "stream",
          "name": "stderr",
          "text": [
            "ok\n",
            "\n",
            "----------------------------------------------------------------------\n",
            "Ran 1 test in 566.903s\n",
            "\n",
            "OK\n"
          ]
        }
      ]
    },
    {
      "cell_type": "markdown",
      "source": [
        "Below code, we create a simple RNN with 32 units and a single dense layer with a sigmoid activation function. We compile the model with the RMSprop optimizer and binary cross-entropy loss, and train it using the fit method, specifying the training and validation data, as well as the batch size and number of epochs. Note that the input shape for this RNN is (None, 1), indicating that it can accept input sequences of any length (None), with each time step having a single feature\n",
        "\n",
        "\n",
        "\n",
        "In Below example, we define two test methods test_model_creation and test_model_training. In the test_model_creation method, we create the RNN model and compile it with the same parameters as in the original code, and then check that the model has the expected architecture of two layers: a SimpleRNN and a Dense layer.\n",
        "\n",
        "In the test_model_training method, we train the RNN model on the same data as in the original code, and then check that the history object returned by the fit method contains the expected keys of 'loss', 'accuracy', 'val_loss', and 'val_accuracy'."
      ],
      "metadata": {
        "id": "XjXUgrRFTNJQ"
      }
    },
    {
      "cell_type": "code",
      "source": [
        "import unittest\n",
        "from keras.models import Sequential\n",
        "from keras.layers import Dense, SimpleRNN\n",
        "\n",
        "class TestRNNModel(unittest.TestCase):\n",
        "\n",
        "    def test_model_creation(self):\n",
        "        # Define the model\n",
        "        model = Sequential()\n",
        "        model.add(SimpleRNN(units=32, input_shape=(None, 1)))\n",
        "        model.add(Dense(1, activation='sigmoid'))\n",
        "\n",
        "        # Compile the model\n",
        "        model.compile(optimizer='rmsprop', loss='binary_crossentropy', metrics=['accuracy'])\n",
        "\n",
        "        # Check model architecture\n",
        "        expected_layers = [SimpleRNN, Dense]\n",
        "        self.assertEqual(len(model.layers), len(expected_layers))\n",
        "        for i in range(len(expected_layers)):\n",
        "            self.assertIsInstance(model.layers[i], expected_layers[i])\n",
        "\n",
        "    def test_model_training(self):\n",
        "        # Train the model\n",
        "        history = model.fit(x_train, y_train, epochs=10, batch_size=32, validation_data=(x_test, y_test))\n",
        "\n",
        "        # Check history object\n",
        "        self.assertIn('loss', history.history)\n",
        "        self.assertIn('accuracy', history.history)\n",
        "        self.assertIn('val_loss', history.history)\n",
        "        self.assertIn('val_accuracy', history.history)\n",
        "\n",
        "if __name__ == '__main__':\n",
        "    unittest.main(argv=[''],defaultTest = 'TestRNNModel', verbosity = 2, exit=False)\n"
      ],
      "metadata": {
        "colab": {
          "base_uri": "https://localhost:8080/"
        },
        "id": "iksSjcBZTRiw",
        "outputId": "b0e176d9-41f7-48d3-a756-a3da720db7bc"
      },
      "execution_count": null,
      "outputs": [
        {
          "output_type": "stream",
          "name": "stderr",
          "text": [
            "test_model_creation (__main__.TestRNNModel) ... ok\n",
            "test_model_training (__main__.TestRNNModel) ... "
          ]
        },
        {
          "output_type": "stream",
          "name": "stdout",
          "text": [
            "Epoch 1/10\n",
            "1875/1875 [==============================] - 67s 36ms/step - loss: 0.0263 - accuracy: 0.9917 - val_loss: 0.0346 - val_accuracy: 0.9893\n",
            "Epoch 2/10\n",
            "1875/1875 [==============================] - 65s 35ms/step - loss: 0.0138 - accuracy: 0.9953 - val_loss: 0.0302 - val_accuracy: 0.9906\n",
            "Epoch 3/10\n",
            "1875/1875 [==============================] - 60s 32ms/step - loss: 0.0116 - accuracy: 0.9958 - val_loss: 0.0316 - val_accuracy: 0.9916\n",
            "Epoch 4/10\n",
            "1875/1875 [==============================] - 63s 33ms/step - loss: 0.0091 - accuracy: 0.9971 - val_loss: 0.0392 - val_accuracy: 0.9894\n",
            "Epoch 5/10\n",
            "1875/1875 [==============================] - 61s 33ms/step - loss: 0.0069 - accuracy: 0.9976 - val_loss: 0.0532 - val_accuracy: 0.9885\n",
            "Epoch 6/10\n",
            "1875/1875 [==============================] - 63s 33ms/step - loss: 0.0076 - accuracy: 0.9973 - val_loss: 0.0403 - val_accuracy: 0.9885\n",
            "Epoch 7/10\n",
            "1875/1875 [==============================] - 61s 33ms/step - loss: 0.0055 - accuracy: 0.9982 - val_loss: 0.0588 - val_accuracy: 0.9887\n",
            "Epoch 8/10\n",
            "1875/1875 [==============================] - 61s 33ms/step - loss: 0.0058 - accuracy: 0.9980 - val_loss: 0.0420 - val_accuracy: 0.9916\n",
            "Epoch 9/10\n",
            "1875/1875 [==============================] - 61s 32ms/step - loss: 0.0055 - accuracy: 0.9982 - val_loss: 0.0569 - val_accuracy: 0.9897\n",
            "Epoch 10/10\n",
            "1875/1875 [==============================] - 60s 32ms/step - loss: 0.0051 - accuracy: 0.9983 - val_loss: 0.0495 - val_accuracy: 0.9896\n"
          ]
        },
        {
          "output_type": "stream",
          "name": "stderr",
          "text": [
            "ok\n",
            "\n",
            "----------------------------------------------------------------------\n",
            "Ran 2 tests in 622.476s\n",
            "\n",
            "OK\n"
          ]
        }
      ]
    },
    {
      "cell_type": "markdown",
      "source": [
        "Below is the sample code for Polynomial Regression test case in Pyunit\n"
      ],
      "metadata": {
        "id": "B4KJZcmnycgd"
      }
    },
    {
      "cell_type": "code",
      "source": [
        "import unittest\n",
        "import numpy as np\n",
        "from sklearn.preprocessing import PolynomialFeatures\n",
        "from sklearn.linear_model import LinearRegression\n",
        "\n",
        "class TestPolynomialRegression(unittest.TestCase):\n",
        "    def setUp(self):\n",
        "        self.X_train = np.array([1, 2, 3, 4, 5]).reshape((-1, 1))\n",
        "        self.y_train = np.array([2.5, 5.5, 9.5, 14.5, 20.5])\n",
        "        self.degree = 2\n",
        "\n",
        "    def test_polynomial_regression(self):\n",
        "        poly = PolynomialFeatures(degree=self.degree)\n",
        "        X_train_poly = poly.fit_transform(self.X_train)\n",
        "        linreg = LinearRegression()\n",
        "        linreg.fit(X_train_poly, self.y_train)\n",
        "        self.assertAlmostEqual(linreg.intercept_, 0.5, places=2)\n",
        "        self.assertAlmostEqual(linreg.coef_[0], 0.0, places=2)\n",
        "        self.assertAlmostEqual(linreg.coef_[1], 1.5, places=2)\n",
        "        self.assertAlmostEqual(linreg.coef_[2], 0.5, places=2)\n",
        "\n",
        "if __name__ == '__main__':\n",
        "    unittest.main(argv=[''],defaultTest = 'TestPolynomialRegression', verbosity = 2, exit=False)\n"
      ],
      "metadata": {
        "colab": {
          "base_uri": "https://localhost:8080/"
        },
        "id": "CFqTVf6Pd5Ks",
        "outputId": "4dee2328-741a-4112-fda9-a08202eb52fc"
      },
      "execution_count": null,
      "outputs": [
        {
          "output_type": "stream",
          "name": "stderr",
          "text": [
            "test_polynomial_regression (__main__.TestPolynomialRegression) ... ok\n",
            "\n",
            "----------------------------------------------------------------------\n",
            "Ran 1 test in 0.033s\n",
            "\n",
            "OK\n"
          ]
        }
      ]
    },
    {
      "cell_type": "markdown",
      "source": [
        "Below is the sample Code of Neural Network test case in Pyunit\n",
        "\n",
        "\n",
        "The code, we define a test case called TestNeuralNetwork that inherits from the unittest.TestCase class. We define the setUp method to generate random training data, define the neural network architecture, compile the model, and train it on the training data.\n",
        "\n",
        "We then define two test methods: test_evaluate and test_predict. In test_evaluate, we generate some test data and evaluate the model on it, checking that the test loss and accuracy are not None. In test_predict, we generate some test data and make predictions on it, checking that the predictions are not None.\n",
        "\n",
        "Finally, we use the unittest.main() method to run the test case\n"
      ],
      "metadata": {
        "id": "WNKLtFU3zcO5"
      }
    },
    {
      "cell_type": "code",
      "source": [
        "import unittest\n",
        "import numpy as np\n",
        "from tensorflow.keras.models import Sequential\n",
        "from tensorflow.keras.layers import Dense\n",
        "\n",
        "class TestNeuralNetwork(unittest.TestCase):\n",
        "    def setUp(self):\n",
        "        # Generate some random data for training\n",
        "        self.X_train = np.random.random((1000, 10))\n",
        "        self.y_train = np.random.randint(2, size=(1000, 1))\n",
        "\n",
        "        # Define the neural network architecture\n",
        "        self.model = Sequential()\n",
        "        self.model.add(Dense(32, input_dim=10, activation='relu'))\n",
        "        self.model.add(Dense(1, activation='sigmoid'))\n",
        "\n",
        "        # Compile the model\n",
        "        self.model.compile(loss='binary_crossentropy', optimizer='adam', metrics=['accuracy'])\n",
        "\n",
        "        # Train the model on the training data\n",
        "        self.model.fit(self.X_train, self.y_train, epochs=10, batch_size=32)\n",
        "\n",
        "    def test_evaluate(self):\n",
        "        # Generate some test data\n",
        "        X_test = np.random.random((10, 10))\n",
        "        y_test = np.random.randint(2, size=(10, 1))\n",
        "\n",
        "        # Evaluate the model on the test data\n",
        "        loss, accuracy = self.model.evaluate(X_test, y_test)\n",
        "\n",
        "        self.assertIsNotNone(loss)\n",
        "        self.assertIsNotNone(accuracy)\n",
        "\n",
        "    def test_predict(self):\n",
        "        # Generate some test data\n",
        "        X_test = np.random.random((10, 10))\n",
        "\n",
        "        # Make predictions on the test data\n",
        "        y_pred = self.model.predict(X_test)\n",
        "\n",
        "        self.assertIsNotNone(y_pred)\n",
        "\n",
        "if __name__ == '__main__':\n",
        "    unittest.main(argv=[''],defaultTest = 'TestNeuralNetwork', verbosity = 2, exit=False)\n"
      ],
      "metadata": {
        "colab": {
          "base_uri": "https://localhost:8080/"
        },
        "id": "EbODY5LUzauj",
        "outputId": "525b52af-1d57-4349-cee2-c44651655cbb"
      },
      "execution_count": null,
      "outputs": [
        {
          "output_type": "stream",
          "name": "stderr",
          "text": [
            "test_evaluate (__main__.TestNeuralNetwork) ... "
          ]
        },
        {
          "output_type": "stream",
          "name": "stdout",
          "text": [
            "Epoch 1/10\n",
            "32/32 [==============================] - 1s 4ms/step - loss: 0.7037 - accuracy: 0.4980\n",
            "Epoch 2/10\n",
            "32/32 [==============================] - 0s 5ms/step - loss: 0.6964 - accuracy: 0.5140\n",
            "Epoch 3/10\n",
            "32/32 [==============================] - 0s 5ms/step - loss: 0.6969 - accuracy: 0.5050\n",
            "Epoch 4/10\n",
            "32/32 [==============================] - 0s 3ms/step - loss: 0.6947 - accuracy: 0.5250\n",
            "Epoch 5/10\n",
            "32/32 [==============================] - 0s 2ms/step - loss: 0.6935 - accuracy: 0.5200\n",
            "Epoch 6/10\n",
            "32/32 [==============================] - 0s 2ms/step - loss: 0.6931 - accuracy: 0.5200\n",
            "Epoch 7/10\n",
            "32/32 [==============================] - 0s 2ms/step - loss: 0.6922 - accuracy: 0.5280\n",
            "Epoch 8/10\n",
            "32/32 [==============================] - 0s 2ms/step - loss: 0.6916 - accuracy: 0.5210\n",
            "Epoch 9/10\n",
            "32/32 [==============================] - 0s 2ms/step - loss: 0.6908 - accuracy: 0.5360\n",
            "Epoch 10/10\n",
            "32/32 [==============================] - 0s 2ms/step - loss: 0.6905 - accuracy: 0.5330\n",
            "1/1 [==============================] - 0s 192ms/step - loss: 0.7013 - accuracy: 0.5000\n"
          ]
        },
        {
          "output_type": "stream",
          "name": "stderr",
          "text": [
            "ok\n",
            "test_predict (__main__.TestNeuralNetwork) ... "
          ]
        },
        {
          "output_type": "stream",
          "name": "stdout",
          "text": [
            "Epoch 1/10\n",
            "32/32 [==============================] - 1s 4ms/step - loss: 0.7020 - accuracy: 0.4820\n",
            "Epoch 2/10\n",
            "32/32 [==============================] - 0s 3ms/step - loss: 0.6985 - accuracy: 0.5050\n",
            "Epoch 3/10\n",
            "32/32 [==============================] - 0s 3ms/step - loss: 0.6967 - accuracy: 0.4960\n",
            "Epoch 4/10\n",
            "32/32 [==============================] - 0s 3ms/step - loss: 0.6955 - accuracy: 0.5040\n",
            "Epoch 5/10\n",
            "32/32 [==============================] - 0s 3ms/step - loss: 0.6953 - accuracy: 0.5160\n",
            "Epoch 6/10\n",
            "32/32 [==============================] - 0s 3ms/step - loss: 0.6939 - accuracy: 0.5090\n",
            "Epoch 7/10\n",
            "32/32 [==============================] - 0s 3ms/step - loss: 0.6926 - accuracy: 0.5180\n",
            "Epoch 8/10\n",
            "32/32 [==============================] - 0s 4ms/step - loss: 0.6920 - accuracy: 0.5300\n",
            "Epoch 9/10\n",
            "32/32 [==============================] - 0s 3ms/step - loss: 0.6909 - accuracy: 0.5140\n",
            "Epoch 10/10\n",
            "32/32 [==============================] - 0s 3ms/step - loss: 0.6908 - accuracy: 0.5350\n",
            "1/1 [==============================] - 0s 61ms/step\n"
          ]
        },
        {
          "output_type": "stream",
          "name": "stderr",
          "text": [
            "ok\n",
            "\n",
            "----------------------------------------------------------------------\n",
            "Ran 2 tests in 4.636s\n",
            "\n",
            "OK\n"
          ]
        }
      ]
    },
    {
      "cell_type": "markdown",
      "source": [
        "Below example is the test case for K-Means clustering in Python:"
      ],
      "metadata": {
        "id": "tV-_6ID62nw2"
      }
    },
    {
      "cell_type": "code",
      "source": [
        "import unittest\n",
        "import numpy as np\n",
        "import matplotlib.pyplot as plt\n",
        "from sklearn.cluster import KMeans\n",
        "\n",
        "class TestKMeansClustering(unittest.TestCase):\n",
        "\n",
        "    def test_kmeans_clustering(self):\n",
        "        # Generate some random data\n",
        "        X = np.random.randn(100, 2)\n",
        "\n",
        "        # Fit K-Means with two clusters\n",
        "        kmeans = KMeans(n_clusters=2).fit(X)\n",
        "\n",
        "        # Get the cluster centers and labels\n",
        "        centers = kmeans.cluster_centers_\n",
        "        labels = kmeans.labels_\n",
        "\n",
        "        # Plot the data with different colors for each cluster\n",
        "        plt.scatter(X[:, 0], X[:, 1], c=labels)\n",
        "        plt.scatter(centers[:, 0], centers[:, 1], marker='x', s=200, linewidths=3, color='r')\n",
        "        plt.show()\n",
        "\n",
        "if __name__ == '__main__':\n",
        "    unittest.main(argv=[''],defaultTest = 'TestKMeansClustering', verbosity = 2, exit=False)\n"
      ],
      "metadata": {
        "colab": {
          "base_uri": "https://localhost:8080/",
          "height": 387
        },
        "id": "az_sxiVq2vVe",
        "outputId": "6348a701-cc1e-4800-92dc-61e09cf896ba"
      },
      "execution_count": null,
      "outputs": [
        {
          "output_type": "stream",
          "name": "stderr",
          "text": [
            "test_kmeans_clustering (__main__.TestKMeansClustering) ... "
          ]
        },
        {
          "output_type": "display_data",
          "data": {
            "text/plain": [
              "<Figure size 432x288 with 1 Axes>"
            ],
            "image/png": "[encoded data removed]"
          },
          "metadata": {
            "needs_background": "light"
          }
        },
        {
          "output_type": "stream",
          "name": "stderr",
          "text": [
            "ok\n",
            "\n",
            "----------------------------------------------------------------------\n",
            "Ran 1 test in 0.714s\n",
            "\n",
            "OK\n"
          ]
        }
      ]
    },
    {
      "cell_type": "markdown",
      "source": [
        "Sample test case code for Principal Component Analysis (PCA) in Dimensionality reduction"
      ],
      "metadata": {
        "id": "5YYymZpe3hL7"
      }
    },
    {
      "cell_type": "code",
      "source": [
        "import unittest\n",
        "import numpy as np\n",
        "import matplotlib.pyplot as plt\n",
        "from sklearn.decomposition import PCA\n",
        "\n",
        "class TestPCA(unittest.TestCase):\n",
        "\n",
        "    def test_pca(self):\n",
        "        # Generate some random data with 3 features\n",
        "        X = np.random.randn(100, 3)\n",
        "\n",
        "        # Perform PCA to reduce the data to 2 dimensions\n",
        "        pca = PCA(n_components=2)\n",
        "        X_reduced = pca.fit_transform(X)\n",
        "\n",
        "        # Plot the original and reduced data\n",
        "        fig, ax = plt.subplots(1, 2, figsize=(10, 5))\n",
        "        ax[0].scatter(X[:, 0], X[:, 1], c=X[:, 2])\n",
        "        ax[0].set_xlabel('Feature 1')\n",
        "        ax[0].set_ylabel('Feature 2')\n",
        "        ax[0].set_title('Original Data')\n",
        "        ax[1].scatter(X_reduced[:, 0], X_reduced[:, 1])\n",
        "        ax[1].set_xlabel('Principal Component 1')\n",
        "        ax[1].set_ylabel('Principal Component 2')\n",
        "        ax[1].set_title('Reduced Data')\n",
        "        plt.show()\n",
        "\n",
        "if __name__ == '__main__':\n",
        "    unittest.main(argv=[''],defaultTest = 'TestPCA', verbosity = 2, exit=False)\n"
      ],
      "metadata": {
        "colab": {
          "base_uri": "https://localhost:8080/",
          "height": 472
        },
        "id": "4hNI_E6f3iLM",
        "outputId": "ef85d075-d16a-4c45-cced-9350aa7e5be2"
      },
      "execution_count": null,
      "outputs": [
        {
          "output_type": "stream",
          "name": "stderr",
          "text": [
            "test_pca (__main__.TestPCA) ... "
          ]
        },
        {
          "output_type": "display_data",
          "data": {
            "text/plain": [
              "<Figure size 720x360 with 2 Axes>"
            ],
            "image/png": "[encoded data removed]"
          },
          "metadata": {
            "needs_background": "light"
          }
        },
        {
          "output_type": "stream",
          "name": "stderr",
          "text": [
            "ok\n",
            "\n",
            "----------------------------------------------------------------------\n",
            "Ran 1 test in 0.292s\n",
            "\n",
            "OK\n"
          ]
        }
      ]
    },
    {
      "cell_type": "markdown",
      "source": [
        "\n",
        " Below is sample PyUnit test case for the Association Rule Learning code\n",
        "\n",
        "\n",
        "This test case has two test methods:\n",
        "\n",
        "test_apriori(): This method tests that the apriori function generates the expected frequent itemsets for a given dataset.\n",
        "\n",
        "test_association_rules(): This method tests that the association_rules function generates the expected association rules for a given dataset and frequent itemsets."
      ],
      "metadata": {
        "id": "G7NseBo447SS"
      }
    },
    {
      "cell_type": "code",
      "source": [
        "import unittest\n",
        "from mlxtend.frequent_patterns import apriori, association_rules\n",
        "import pandas as pd\n",
        "\n",
        "class TestAssociationRuleLearning(unittest.TestCase):\n",
        "\n",
        "    def test_apriori(self):\n",
        "        # Create example dataset\n",
        "        data = {'Milk': [1, 0, 1, 1, 1], 'Eggs': [1, 1, 1, 0, 1], 'Bread': [1, 0, 1, 1, 1], 'Butter': [0, 0, 1, 1, 0]}\n",
        "        df = pd.DataFrame(data)\n",
        "\n",
        "        # Generate frequent itemsets using Apriori\n",
        "        freq_itemsets = apriori(df, min_support=0.6, use_colnames=True)\n",
        "\n",
        "        # Check that the expected itemsets are generated\n",
        "        expected_itemsets = pd.DataFrame({'support': [0.8, 0.6], 'itemsets': [frozenset({'Milk', 'Bread'}), frozenset({'Milk', 'Eggs', 'Bread'})]})\n",
        "        pd.testing.assert_frame_equal(freq_itemsets, expected_itemsets)\n",
        "\n",
        "    def test_association_rules(self):\n",
        "        # Create example dataset\n",
        "        data = {'Milk': [1, 0, 1, 1, 1], 'Eggs': [1, 1, 1, 0, 1], 'Bread': [1, 0, 1, 1, 1], 'Butter': [0, 0, 1, 1, 0]}\n",
        "        df = pd.DataFrame(data)\n",
        "\n",
        "        # Generate frequent itemsets using Apriori\n",
        "        freq_itemsets = apriori(df, min_support=0.6, use_colnames=True)\n",
        "\n",
        "        # Generate association rules\n",
        "        rules = association_rules(freq_itemsets, metric='lift', min_threshold=1)\n",
        "\n",
        "        # Check that the expected rules are generated\n",
        "        expected_rules = pd.DataFrame({'antecedents': [frozenset({'Milk'}), frozenset({'Bread'}), frozenset({'Eggs', 'Bread'})],\n",
        "                                       'consequents': [frozenset({'Bread'}), frozenset({'Milk'}), frozenset({'Milk'})],\n",
        "                                       'antecedent support': [0.8, 0.8, 0.6],\n",
        "                                       'consequent support': [0.8, 0.8, 0.8],\n",
        "                                       'support': [0.6, 0.6, 0.6],\n",
        "                                       'confidence': [0.75, 0.75, 1.0],\n",
        "                                       'lift': [0.9375, 0.9375, 1.25],\n",
        "                                       'leverage': [-0.036, -0.036, 0.12],\n",
        "                                       'conviction': [0.8, 0.8, float('inf')]})\n",
        "        pd.testing.assert_frame_equal(rules, expected_rules)\n"
      ],
      "metadata": {
        "id": "IKKDzC12ROoe"
      },
      "execution_count": null,
      "outputs": []
    },
    {
      "cell_type": "code",
      "source": [
        "print(freq_itemsets)"
      ],
      "metadata": {
        "colab": {
          "base_uri": "https://localhost:8080/"
        },
        "id": "W8mw_DcdSnJM",
        "outputId": "5cce6508-9350-405e-fba3-8a888b7c1458"
      },
      "execution_count": null,
      "outputs": [
        {
          "output_type": "stream",
          "name": "stdout",
          "text": [
            "   support             itemsets\n",
            "0      0.8               (Milk)\n",
            "1      0.8               (Eggs)\n",
            "2      0.8              (Bread)\n",
            "3      0.6         (Eggs, Milk)\n",
            "4      0.8        (Bread, Milk)\n",
            "5      0.6        (Bread, Eggs)\n",
            "6      0.6  (Bread, Eggs, Milk)\n"
          ]
        }
      ]
    },
    {
      "cell_type": "code",
      "source": [
        "print(rules)"
      ],
      "metadata": {
        "colab": {
          "base_uri": "https://localhost:8080/"
        },
        "id": "hwMyFfJzSrA8",
        "outputId": "de01cf78-efe9-45d7-fbf4-acf6789582c0"
      },
      "execution_count": null,
      "outputs": [
        {
          "output_type": "stream",
          "name": "stdout",
          "text": [
            "     antecedents    consequents  antecedent support  consequent support  \\\n",
            "0        (Bread)         (Milk)                 0.8                 0.8   \n",
            "1         (Milk)        (Bread)                 0.8                 0.8   \n",
            "2  (Bread, Eggs)         (Milk)                 0.6                 0.8   \n",
            "3   (Eggs, Milk)        (Bread)                 0.6                 0.8   \n",
            "4        (Bread)   (Eggs, Milk)                 0.8                 0.6   \n",
            "5         (Milk)  (Bread, Eggs)                 0.8                 0.6   \n",
            "\n",
            "   support  confidence  lift  leverage  conviction  \n",
            "0      0.8        1.00  1.25      0.16         inf  \n",
            "1      0.8        1.00  1.25      0.16         inf  \n",
            "2      0.6        1.00  1.25      0.12         inf  \n",
            "3      0.6        1.00  1.25      0.12         inf  \n",
            "4      0.6        0.75  1.25      0.12         1.6  \n",
            "5      0.6        0.75  1.25      0.12         1.6  \n"
          ]
        }
      ]
    },
    {
      "cell_type": "markdown",
      "source": [],
      "metadata": {
        "id": "dOsjj_OUVOsd"
      }
    }
  ]
}