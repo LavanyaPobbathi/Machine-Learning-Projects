{
  "cells": [
    {
      "cell_type": "markdown",
      "metadata": {
        "id": "view-in-github",
        "colab_type": "text"
      },
      "source": [
        "<a href=\"https://colab.research.google.com/github/LavanyaPobbathi/Machine-Learning-Projects/blob/main/Multiple_Linear_Regression.ipynb\" target=\"_parent\"><img src=\"https://colab.research.google.com/assets/colab-badge.svg\" alt=\"Open In Colab\"/></a>"
      ]
    },
    {
      "cell_type": "code",
      "execution_count": null,
      "id": "5f4e5e14",
      "metadata": {
        "id": "5f4e5e14"
      },
      "outputs": [],
      "source": [
        "# Importing libraries\n",
        "import numpy as np\n",
        "import matplotlib.pyplot as plt\n",
        "import pandas as pd\n"
      ]
    },
    {
      "cell_type": "code",
      "execution_count": null,
      "id": "ab45d025",
      "metadata": {
        "id": "ab45d025"
      },
      "outputs": [],
      "source": [
        "# Importing the dataset\n",
        "dataset = pd.read_csv('Multiple-Linear-Dataset.csv')\n",
        "X = dataset.iloc[:, :-1].values\n",
        "y = dataset.iloc[:, 4].values\n"
      ]
    },
    {
      "cell_type": "code",
      "execution_count": null,
      "id": "60c09762",
      "metadata": {
        "id": "60c09762"
      },
      "outputs": [],
      "source": [
        "#OneHotEncoder is used to further transform the encoded categorical variable into multiple binary variables.\n",
        "# Encoding categorical data\n",
        "from sklearn.preprocessing import LabelEncoder, OneHotEncoder\n",
        "labelencoder_X = LabelEncoder()\n",
        "X[:, 3] = labelencoder_X.fit_transform(X[:, 3])\n",
        "onehotencoder = OneHotEncoder(categories='auto')\n",
        "X = onehotencoder.fit_transform(X).toarray()\n"
      ]
    },
    {
      "cell_type": "code",
      "execution_count": null,
      "id": "6924ca53",
      "metadata": {
        "id": "6924ca53"
      },
      "outputs": [],
      "source": [
        "# Avoiding the Dummy Variable Trap to avoid multicollinearity, its necessary When using one-hot encoding\n",
        "X = X[:, 1:]\n"
      ]
    },
    {
      "cell_type": "code",
      "execution_count": null,
      "id": "eaf41782",
      "metadata": {
        "id": "eaf41782"
      },
      "outputs": [],
      "source": [
        "# Splitting the dataset into the Training set and Test set\n",
        "from sklearn.model_selection import train_test_split\n",
        "X_train, X_test, y_train, y_test = train_test_split(X, y, test_size=0.2, random_state=0)"
      ]
    },
    {
      "cell_type": "code",
      "execution_count": null,
      "id": "b99cd261",
      "metadata": {
        "id": "b99cd261",
        "outputId": "c203b0ff-5ed4-4476-e630-f90fa213886f"
      },
      "outputs": [
        {
          "data": {
            "text/plain": [
              "LinearRegression()"
            ]
          },
          "execution_count": 82,
          "metadata": {},
          "output_type": "execute_result"
        }
      ],
      "source": [
        "# Fitting Multiple Linear Regression to the Training set\n",
        "from sklearn.linear_model import LinearRegression\n",
        "regressor = LinearRegression()\n",
        "regressor.fit(X_train, y_train)\n"
      ]
    },
    {
      "cell_type": "code",
      "execution_count": null,
      "id": "bdca4710",
      "metadata": {
        "id": "bdca4710",
        "outputId": "28a7f45d-db0a-4c17-984e-1e3fd99be70b"
      },
      "outputs": [
        {
          "data": {
            "text/plain": [
              "array([102284.64605183, 133873.92383812, 134182.1495165 ,  73701.1069363 ,\n",
              "       180642.25299736, 114717.24903894,  68335.07575312,  97433.45922275,\n",
              "       114580.92136452, 170343.31979498])"
            ]
          },
          "execution_count": 96,
          "metadata": {},
          "output_type": "execute_result"
        }
      ],
      "source": [
        "# Predicting the Test set results\n",
        "y_pred = regressor.predict(X_test)\n",
        "y_pred"
      ]
    },
    {
      "cell_type": "code",
      "execution_count": null,
      "id": "8ff27f23",
      "metadata": {
        "id": "8ff27f23",
        "outputId": "f05dd9a4-df65-4048-c0aa-f453171ec27d"
      },
      "outputs": [
        {
          "data": {
            "text/html": [
              "<table class=\"simpletable\">\n",
              "<caption>OLS Regression Results</caption>\n",
              "<tr>\n",
              "  <th>Dep. Variable:</th>            <td>y</td>        <th>  R-squared:         </th> <td>   0.203</td>\n",
              "</tr>\n",
              "<tr>\n",
              "  <th>Model:</th>                   <td>OLS</td>       <th>  Adj. R-squared:    </th> <td>   0.113</td>\n",
              "</tr>\n",
              "<tr>\n",
              "  <th>Method:</th>             <td>Least Squares</td>  <th>  F-statistic:       </th> <td>   2.244</td>\n",
              "</tr>\n",
              "<tr>\n",
              "  <th>Date:</th>             <td>Mon, 12 Jun 2023</td> <th>  Prob (F-statistic):</th>  <td>0.0665</td> \n",
              "</tr>\n",
              "<tr>\n",
              "  <th>Time:</th>                 <td>20:50:04</td>     <th>  Log-Likelihood:    </th> <td> -594.98</td>\n",
              "</tr>\n",
              "<tr>\n",
              "  <th>No. Observations:</th>      <td>    50</td>      <th>  AIC:               </th> <td>   1202.</td>\n",
              "</tr>\n",
              "<tr>\n",
              "  <th>Df Residuals:</th>          <td>    44</td>      <th>  BIC:               </th> <td>   1213.</td>\n",
              "</tr>\n",
              "<tr>\n",
              "  <th>Df Model:</th>              <td>     5</td>      <th>                     </th>     <td> </td>   \n",
              "</tr>\n",
              "<tr>\n",
              "  <th>Covariance Type:</th>      <td>nonrobust</td>    <th>                     </th>     <td> </td>   \n",
              "</tr>\n",
              "</table>\n",
              "<table class=\"simpletable\">\n",
              "<tr>\n",
              "    <td></td>       <th>coef</th>     <th>std err</th>      <th>t</th>      <th>P>|t|</th>  <th>[0.025</th>    <th>0.975]</th>  \n",
              "</tr>\n",
              "<tr>\n",
              "  <th>const</th> <td> 1.178e+05</td> <td> 5659.867</td> <td>   20.808</td> <td> 0.000</td> <td> 1.06e+05</td> <td> 1.29e+05</td>\n",
              "</tr>\n",
              "<tr>\n",
              "  <th>x1</th>    <td>-8.209e+04</td> <td> 3.84e+04</td> <td>   -2.139</td> <td> 0.038</td> <td>-1.59e+05</td> <td>-4730.369</td>\n",
              "</tr>\n",
              "<tr>\n",
              "  <th>x2</th>    <td>-5.284e+04</td> <td> 3.84e+04</td> <td>   -1.377</td> <td> 0.176</td> <td> -1.3e+05</td> <td> 2.45e+04</td>\n",
              "</tr>\n",
              "<tr>\n",
              "  <th>x3</th>    <td>-6.828e+04</td> <td> 3.84e+04</td> <td>   -1.779</td> <td> 0.082</td> <td>-1.46e+05</td> <td> 9086.971</td>\n",
              "</tr>\n",
              "<tr>\n",
              "  <th>x4</th>    <td>-4.801e+04</td> <td> 3.84e+04</td> <td>   -1.251</td> <td> 0.218</td> <td>-1.25e+05</td> <td> 2.94e+04</td>\n",
              "</tr>\n",
              "<tr>\n",
              "  <th>x5</th>    <td>-3.654e+04</td> <td> 3.84e+04</td> <td>   -0.952</td> <td> 0.346</td> <td>-1.14e+05</td> <td> 4.08e+04</td>\n",
              "</tr>\n",
              "</table>\n",
              "<table class=\"simpletable\">\n",
              "<tr>\n",
              "  <th>Omnibus:</th>       <td> 1.590</td> <th>  Durbin-Watson:     </th> <td>   0.512</td>\n",
              "</tr>\n",
              "<tr>\n",
              "  <th>Prob(Omnibus):</th> <td> 0.452</td> <th>  Jarque-Bera (JB):  </th> <td>   0.795</td>\n",
              "</tr>\n",
              "<tr>\n",
              "  <th>Skew:</th>          <td>-0.059</td> <th>  Prob(JB):          </th> <td>   0.672</td>\n",
              "</tr>\n",
              "<tr>\n",
              "  <th>Kurtosis:</th>      <td> 3.606</td> <th>  Cond. No.          </th> <td>    7.47</td>\n",
              "</tr>\n",
              "</table><br/><br/>Notes:<br/>[1] Standard Errors assume that the covariance matrix of the errors is correctly specified."
            ],
            "text/plain": [
              "<class 'statsmodels.iolib.summary.Summary'>\n",
              "\"\"\"\n",
              "                            OLS Regression Results                            \n",
              "==============================================================================\n",
              "Dep. Variable:                      y   R-squared:                       0.203\n",
              "Model:                            OLS   Adj. R-squared:                  0.113\n",
              "Method:                 Least Squares   F-statistic:                     2.244\n",
              "Date:                Mon, 12 Jun 2023   Prob (F-statistic):             0.0665\n",
              "Time:                        20:50:04   Log-Likelihood:                -594.98\n",
              "No. Observations:                  50   AIC:                             1202.\n",
              "Df Residuals:                      44   BIC:                             1213.\n",
              "Df Model:                           5                                         \n",
              "Covariance Type:            nonrobust                                         \n",
              "==============================================================================\n",
              "                 coef    std err          t      P>|t|      [0.025      0.975]\n",
              "------------------------------------------------------------------------------\n",
              "const       1.178e+05   5659.867     20.808      0.000    1.06e+05    1.29e+05\n",
              "x1         -8.209e+04   3.84e+04     -2.139      0.038   -1.59e+05   -4730.369\n",
              "x2         -5.284e+04   3.84e+04     -1.377      0.176    -1.3e+05    2.45e+04\n",
              "x3         -6.828e+04   3.84e+04     -1.779      0.082   -1.46e+05    9086.971\n",
              "x4         -4.801e+04   3.84e+04     -1.251      0.218   -1.25e+05    2.94e+04\n",
              "x5         -3.654e+04   3.84e+04     -0.952      0.346   -1.14e+05    4.08e+04\n",
              "==============================================================================\n",
              "Omnibus:                        1.590   Durbin-Watson:                   0.512\n",
              "Prob(Omnibus):                  0.452   Jarque-Bera (JB):                0.795\n",
              "Skew:                          -0.059   Prob(JB):                        0.672\n",
              "Kurtosis:                       3.606   Cond. No.                         7.47\n",
              "==============================================================================\n",
              "\n",
              "Notes:\n",
              "[1] Standard Errors assume that the covariance matrix of the errors is correctly specified.\n",
              "\"\"\""
            ]
          },
          "execution_count": 84,
          "metadata": {},
          "output_type": "execute_result"
        }
      ],
      "source": [
        "# Building the optimal model using Backward Elimination\n",
        "#its a method to remove statistically insignificant features from the model.\n",
        "import statsmodels.api as sm\n",
        "X = np.append(arr=np.ones((50, 1)).astype(int), values=X, axis=1)\n",
        "X_opt = X[:, [0, 1, 2, 3, 4, 5]]\n",
        "#endog = dependent variable (y), and exog = independent variables (X_opt).\n",
        "regressor_OLS = sm.OLS(endog=y, exog=X_opt).fit()\n",
        "#it provides the summary of the regression model, including coefficients, p-values, R-squared value\n",
        "regressor_OLS.summary()\n",
        "\n"
      ]
    },
    {
      "cell_type": "code",
      "execution_count": null,
      "id": "b4620d80",
      "metadata": {
        "id": "b4620d80",
        "outputId": "e60f7f2d-3b9b-48c5-c4e2-ef63bf539437"
      },
      "outputs": [
        {
          "data": {
            "text/html": [
              "<table class=\"simpletable\">\n",
              "<caption>OLS Regression Results</caption>\n",
              "<tr>\n",
              "  <th>Dep. Variable:</th>            <td>y</td>        <th>  R-squared:         </th> <td>   0.169</td>\n",
              "</tr>\n",
              "<tr>\n",
              "  <th>Model:</th>                   <td>OLS</td>       <th>  Adj. R-squared:    </th> <td>   0.095</td>\n",
              "</tr>\n",
              "<tr>\n",
              "  <th>Method:</th>             <td>Least Squares</td>  <th>  F-statistic:       </th> <td>   2.286</td>\n",
              "</tr>\n",
              "<tr>\n",
              "  <th>Date:</th>             <td>Mon, 12 Jun 2023</td> <th>  Prob (F-statistic):</th>  <td>0.0747</td> \n",
              "</tr>\n",
              "<tr>\n",
              "  <th>Time:</th>                 <td>20:50:04</td>     <th>  Log-Likelihood:    </th> <td> -596.03</td>\n",
              "</tr>\n",
              "<tr>\n",
              "  <th>No. Observations:</th>      <td>    50</td>      <th>  AIC:               </th> <td>   1202.</td>\n",
              "</tr>\n",
              "<tr>\n",
              "  <th>Df Residuals:</th>          <td>    45</td>      <th>  BIC:               </th> <td>   1212.</td>\n",
              "</tr>\n",
              "<tr>\n",
              "  <th>Df Model:</th>              <td>     4</td>      <th>                     </th>     <td> </td>   \n",
              "</tr>\n",
              "<tr>\n",
              "  <th>Covariance Type:</th>      <td>nonrobust</td>    <th>                     </th>     <td> </td>   \n",
              "</tr>\n",
              "</table>\n",
              "<table class=\"simpletable\">\n",
              "<tr>\n",
              "    <td></td>       <th>coef</th>     <th>std err</th>      <th>t</th>      <th>P>|t|</th>  <th>[0.025</th>    <th>0.975]</th>  \n",
              "</tr>\n",
              "<tr>\n",
              "  <th>const</th> <td> 1.166e+05</td> <td> 5653.397</td> <td>   20.628</td> <td> 0.000</td> <td> 1.05e+05</td> <td> 1.28e+05</td>\n",
              "</tr>\n",
              "<tr>\n",
              "  <th>x1</th>    <td>-8.095e+04</td> <td> 3.88e+04</td> <td>   -2.089</td> <td> 0.042</td> <td>-1.59e+05</td> <td>-2883.631</td>\n",
              "</tr>\n",
              "<tr>\n",
              "  <th>x2</th>    <td>-6.713e+04</td> <td> 3.88e+04</td> <td>   -1.732</td> <td> 0.090</td> <td>-1.45e+05</td> <td> 1.09e+04</td>\n",
              "</tr>\n",
              "<tr>\n",
              "  <th>x3</th>    <td>-4.686e+04</td> <td> 3.88e+04</td> <td>   -1.209</td> <td> 0.233</td> <td>-1.25e+05</td> <td> 3.12e+04</td>\n",
              "</tr>\n",
              "<tr>\n",
              "  <th>x4</th>    <td>-3.539e+04</td> <td> 3.88e+04</td> <td>   -0.913</td> <td> 0.366</td> <td>-1.13e+05</td> <td> 4.27e+04</td>\n",
              "</tr>\n",
              "</table>\n",
              "<table class=\"simpletable\">\n",
              "<tr>\n",
              "  <th>Omnibus:</th>       <td> 0.992</td> <th>  Durbin-Watson:     </th> <td>   0.475</td>\n",
              "</tr>\n",
              "<tr>\n",
              "  <th>Prob(Omnibus):</th> <td> 0.609</td> <th>  Jarque-Bera (JB):  </th> <td>   0.329</td>\n",
              "</tr>\n",
              "<tr>\n",
              "  <th>Skew:</th>          <td>-0.022</td> <th>  Prob(JB):          </th> <td>   0.848</td>\n",
              "</tr>\n",
              "<tr>\n",
              "  <th>Kurtosis:</th>      <td> 3.395</td> <th>  Cond. No.          </th> <td>    7.38</td>\n",
              "</tr>\n",
              "</table><br/><br/>Notes:<br/>[1] Standard Errors assume that the covariance matrix of the errors is correctly specified."
            ],
            "text/plain": [
              "<class 'statsmodels.iolib.summary.Summary'>\n",
              "\"\"\"\n",
              "                            OLS Regression Results                            \n",
              "==============================================================================\n",
              "Dep. Variable:                      y   R-squared:                       0.169\n",
              "Model:                            OLS   Adj. R-squared:                  0.095\n",
              "Method:                 Least Squares   F-statistic:                     2.286\n",
              "Date:                Mon, 12 Jun 2023   Prob (F-statistic):             0.0747\n",
              "Time:                        20:50:04   Log-Likelihood:                -596.03\n",
              "No. Observations:                  50   AIC:                             1202.\n",
              "Df Residuals:                      45   BIC:                             1212.\n",
              "Df Model:                           4                                         \n",
              "Covariance Type:            nonrobust                                         \n",
              "==============================================================================\n",
              "                 coef    std err          t      P>|t|      [0.025      0.975]\n",
              "------------------------------------------------------------------------------\n",
              "const       1.166e+05   5653.397     20.628      0.000    1.05e+05    1.28e+05\n",
              "x1         -8.095e+04   3.88e+04     -2.089      0.042   -1.59e+05   -2883.631\n",
              "x2         -6.713e+04   3.88e+04     -1.732      0.090   -1.45e+05    1.09e+04\n",
              "x3         -4.686e+04   3.88e+04     -1.209      0.233   -1.25e+05    3.12e+04\n",
              "x4         -3.539e+04   3.88e+04     -0.913      0.366   -1.13e+05    4.27e+04\n",
              "==============================================================================\n",
              "Omnibus:                        0.992   Durbin-Watson:                   0.475\n",
              "Prob(Omnibus):                  0.609   Jarque-Bera (JB):                0.329\n",
              "Skew:                          -0.022   Prob(JB):                        0.848\n",
              "Kurtosis:                       3.395   Cond. No.                         7.38\n",
              "==============================================================================\n",
              "\n",
              "Notes:\n",
              "[1] Standard Errors assume that the covariance matrix of the errors is correctly specified.\n",
              "\"\"\""
            ]
          },
          "execution_count": 85,
          "metadata": {},
          "output_type": "execute_result"
        }
      ],
      "source": [
        "X_opt = X[:, [0, 1, 3, 4, 5]]\n",
        "regressor_OLS = sm.OLS(endog=y, exog=X_opt).fit() #sm.OLS is used to perform ordinary least squares regression.\n",
        "regressor_OLS.summary()"
      ]
    },
    {
      "cell_type": "code",
      "execution_count": null,
      "id": "74ba1d7b",
      "metadata": {
        "id": "74ba1d7b",
        "outputId": "a5b0914b-3f48-41da-fae6-837e86ccd3ac"
      },
      "outputs": [
        {
          "data": {
            "text/html": [
              "<table class=\"simpletable\">\n",
              "<caption>OLS Regression Results</caption>\n",
              "<tr>\n",
              "  <th>Dep. Variable:</th>            <td>y</td>        <th>  R-squared:         </th> <td>   0.088</td>\n",
              "</tr>\n",
              "<tr>\n",
              "  <th>Model:</th>                   <td>OLS</td>       <th>  Adj. R-squared:    </th> <td>   0.029</td>\n",
              "</tr>\n",
              "<tr>\n",
              "  <th>Method:</th>             <td>Least Squares</td>  <th>  F-statistic:       </th> <td>   1.486</td>\n",
              "</tr>\n",
              "<tr>\n",
              "  <th>Date:</th>             <td>Mon, 12 Jun 2023</td> <th>  Prob (F-statistic):</th>  <td> 0.231</td> \n",
              "</tr>\n",
              "<tr>\n",
              "  <th>Time:</th>                 <td>20:50:04</td>     <th>  Log-Likelihood:    </th> <td> -598.34</td>\n",
              "</tr>\n",
              "<tr>\n",
              "  <th>No. Observations:</th>      <td>    50</td>      <th>  AIC:               </th> <td>   1205.</td>\n",
              "</tr>\n",
              "<tr>\n",
              "  <th>Df Residuals:</th>          <td>    46</td>      <th>  BIC:               </th> <td>   1212.</td>\n",
              "</tr>\n",
              "<tr>\n",
              "  <th>Df Model:</th>              <td>     3</td>      <th>                     </th>     <td> </td>   \n",
              "</tr>\n",
              "<tr>\n",
              "  <th>Covariance Type:</th>      <td>nonrobust</td>    <th>                     </th>     <td> </td>   \n",
              "</tr>\n",
              "</table>\n",
              "<table class=\"simpletable\">\n",
              "<tr>\n",
              "    <td></td>       <th>coef</th>     <th>std err</th>      <th>t</th>      <th>P>|t|</th>  <th>[0.025</th>    <th>0.975]</th>  \n",
              "</tr>\n",
              "<tr>\n",
              "  <th>const</th> <td> 1.149e+05</td> <td> 5793.703</td> <td>   19.831</td> <td> 0.000</td> <td> 1.03e+05</td> <td> 1.27e+05</td>\n",
              "</tr>\n",
              "<tr>\n",
              "  <th>x1</th>    <td>-6.541e+04</td> <td> 4.01e+04</td> <td>   -1.629</td> <td> 0.110</td> <td>-1.46e+05</td> <td> 1.54e+04</td>\n",
              "</tr>\n",
              "<tr>\n",
              "  <th>x2</th>    <td>-4.514e+04</td> <td> 4.01e+04</td> <td>   -1.125</td> <td> 0.267</td> <td>-1.26e+05</td> <td> 3.57e+04</td>\n",
              "</tr>\n",
              "<tr>\n",
              "  <th>x3</th>    <td>-3.367e+04</td> <td> 4.01e+04</td> <td>   -0.839</td> <td> 0.406</td> <td>-1.14e+05</td> <td> 4.71e+04</td>\n",
              "</tr>\n",
              "</table>\n",
              "<table class=\"simpletable\">\n",
              "<tr>\n",
              "  <th>Omnibus:</th>       <td> 0.598</td> <th>  Durbin-Watson:     </th> <td>   0.208</td>\n",
              "</tr>\n",
              "<tr>\n",
              "  <th>Prob(Omnibus):</th> <td> 0.742</td> <th>  Jarque-Bera (JB):  </th> <td>   0.133</td>\n",
              "</tr>\n",
              "<tr>\n",
              "  <th>Skew:</th>          <td>-0.075</td> <th>  Prob(JB):          </th> <td>   0.935</td>\n",
              "</tr>\n",
              "<tr>\n",
              "  <th>Kurtosis:</th>      <td> 3.203</td> <th>  Cond. No.          </th> <td>    7.30</td>\n",
              "</tr>\n",
              "</table><br/><br/>Notes:<br/>[1] Standard Errors assume that the covariance matrix of the errors is correctly specified."
            ],
            "text/plain": [
              "<class 'statsmodels.iolib.summary.Summary'>\n",
              "\"\"\"\n",
              "                            OLS Regression Results                            \n",
              "==============================================================================\n",
              "Dep. Variable:                      y   R-squared:                       0.088\n",
              "Model:                            OLS   Adj. R-squared:                  0.029\n",
              "Method:                 Least Squares   F-statistic:                     1.486\n",
              "Date:                Mon, 12 Jun 2023   Prob (F-statistic):              0.231\n",
              "Time:                        20:50:04   Log-Likelihood:                -598.34\n",
              "No. Observations:                  50   AIC:                             1205.\n",
              "Df Residuals:                      46   BIC:                             1212.\n",
              "Df Model:                           3                                         \n",
              "Covariance Type:            nonrobust                                         \n",
              "==============================================================================\n",
              "                 coef    std err          t      P>|t|      [0.025      0.975]\n",
              "------------------------------------------------------------------------------\n",
              "const       1.149e+05   5793.703     19.831      0.000    1.03e+05    1.27e+05\n",
              "x1         -6.541e+04   4.01e+04     -1.629      0.110   -1.46e+05    1.54e+04\n",
              "x2         -4.514e+04   4.01e+04     -1.125      0.267   -1.26e+05    3.57e+04\n",
              "x3         -3.367e+04   4.01e+04     -0.839      0.406   -1.14e+05    4.71e+04\n",
              "==============================================================================\n",
              "Omnibus:                        0.598   Durbin-Watson:                   0.208\n",
              "Prob(Omnibus):                  0.742   Jarque-Bera (JB):                0.133\n",
              "Skew:                          -0.075   Prob(JB):                        0.935\n",
              "Kurtosis:                       3.203   Cond. No.                         7.30\n",
              "==============================================================================\n",
              "\n",
              "Notes:\n",
              "[1] Standard Errors assume that the covariance matrix of the errors is correctly specified.\n",
              "\"\"\""
            ]
          },
          "execution_count": 86,
          "metadata": {},
          "output_type": "execute_result"
        }
      ],
      "source": [
        "X_opt = X[:, [0, 3, 4, 5]]\n",
        "regressor_OLS = sm.OLS(endog=y, exog=X_opt).fit()\n",
        "regressor_OLS.summary()"
      ]
    },
    {
      "cell_type": "code",
      "execution_count": null,
      "id": "39ad4311",
      "metadata": {
        "id": "39ad4311",
        "outputId": "b812792a-fb2a-404e-866c-c4d6ce7d0eed"
      },
      "outputs": [
        {
          "data": {
            "text/html": [
              "<table class=\"simpletable\">\n",
              "<caption>OLS Regression Results</caption>\n",
              "<tr>\n",
              "  <th>Dep. Variable:</th>            <td>y</td>        <th>  R-squared:         </th> <td>   0.063</td>\n",
              "</tr>\n",
              "<tr>\n",
              "  <th>Model:</th>                   <td>OLS</td>       <th>  Adj. R-squared:    </th> <td>   0.023</td>\n",
              "</tr>\n",
              "<tr>\n",
              "  <th>Method:</th>             <td>Least Squares</td>  <th>  F-statistic:       </th> <td>   1.588</td>\n",
              "</tr>\n",
              "<tr>\n",
              "  <th>Date:</th>             <td>Mon, 12 Jun 2023</td> <th>  Prob (F-statistic):</th>  <td> 0.215</td> \n",
              "</tr>\n",
              "<tr>\n",
              "  <th>Time:</th>                 <td>20:50:04</td>     <th>  Log-Likelihood:    </th> <td> -599.02</td>\n",
              "</tr>\n",
              "<tr>\n",
              "  <th>No. Observations:</th>      <td>    50</td>      <th>  AIC:               </th> <td>   1204.</td>\n",
              "</tr>\n",
              "<tr>\n",
              "  <th>Df Residuals:</th>          <td>    47</td>      <th>  BIC:               </th> <td>   1210.</td>\n",
              "</tr>\n",
              "<tr>\n",
              "  <th>Df Model:</th>              <td>     2</td>      <th>                     </th>     <td> </td>   \n",
              "</tr>\n",
              "<tr>\n",
              "  <th>Covariance Type:</th>      <td>nonrobust</td>    <th>                     </th>     <td> </td>   \n",
              "</tr>\n",
              "</table>\n",
              "<table class=\"simpletable\">\n",
              "<tr>\n",
              "    <td></td>       <th>coef</th>     <th>std err</th>      <th>t</th>      <th>P>|t|</th>  <th>[0.025</th>    <th>0.975]</th>  \n",
              "</tr>\n",
              "<tr>\n",
              "  <th>const</th> <td>  1.14e+05</td> <td> 5749.145</td> <td>   19.821</td> <td> 0.000</td> <td> 1.02e+05</td> <td> 1.26e+05</td>\n",
              "</tr>\n",
              "<tr>\n",
              "  <th>x1</th>    <td>-6.447e+04</td> <td> 4.02e+04</td> <td>   -1.602</td> <td> 0.116</td> <td>-1.45e+05</td> <td> 1.65e+04</td>\n",
              "</tr>\n",
              "<tr>\n",
              "  <th>x2</th>    <td>-3.273e+04</td> <td> 4.02e+04</td> <td>   -0.813</td> <td> 0.420</td> <td>-1.14e+05</td> <td> 4.82e+04</td>\n",
              "</tr>\n",
              "</table>\n",
              "<table class=\"simpletable\">\n",
              "<tr>\n",
              "  <th>Omnibus:</th>       <td> 0.287</td> <th>  Durbin-Watson:     </th> <td>   0.140</td>\n",
              "</tr>\n",
              "<tr>\n",
              "  <th>Prob(Omnibus):</th> <td> 0.866</td> <th>  Jarque-Bera (JB):  </th> <td>   0.017</td>\n",
              "</tr>\n",
              "<tr>\n",
              "  <th>Skew:</th>          <td>-0.031</td> <th>  Prob(JB):          </th> <td>   0.992</td>\n",
              "</tr>\n",
              "<tr>\n",
              "  <th>Kurtosis:</th>      <td> 3.065</td> <th>  Cond. No.          </th> <td>    7.22</td>\n",
              "</tr>\n",
              "</table><br/><br/>Notes:<br/>[1] Standard Errors assume that the covariance matrix of the errors is correctly specified."
            ],
            "text/plain": [
              "<class 'statsmodels.iolib.summary.Summary'>\n",
              "\"\"\"\n",
              "                            OLS Regression Results                            \n",
              "==============================================================================\n",
              "Dep. Variable:                      y   R-squared:                       0.063\n",
              "Model:                            OLS   Adj. R-squared:                  0.023\n",
              "Method:                 Least Squares   F-statistic:                     1.588\n",
              "Date:                Mon, 12 Jun 2023   Prob (F-statistic):              0.215\n",
              "Time:                        20:50:04   Log-Likelihood:                -599.02\n",
              "No. Observations:                  50   AIC:                             1204.\n",
              "Df Residuals:                      47   BIC:                             1210.\n",
              "Df Model:                           2                                         \n",
              "Covariance Type:            nonrobust                                         \n",
              "==============================================================================\n",
              "                 coef    std err          t      P>|t|      [0.025      0.975]\n",
              "------------------------------------------------------------------------------\n",
              "const        1.14e+05   5749.145     19.821      0.000    1.02e+05    1.26e+05\n",
              "x1         -6.447e+04   4.02e+04     -1.602      0.116   -1.45e+05    1.65e+04\n",
              "x2         -3.273e+04   4.02e+04     -0.813      0.420   -1.14e+05    4.82e+04\n",
              "==============================================================================\n",
              "Omnibus:                        0.287   Durbin-Watson:                   0.140\n",
              "Prob(Omnibus):                  0.866   Jarque-Bera (JB):                0.017\n",
              "Skew:                          -0.031   Prob(JB):                        0.992\n",
              "Kurtosis:                       3.065   Cond. No.                         7.22\n",
              "==============================================================================\n",
              "\n",
              "Notes:\n",
              "[1] Standard Errors assume that the covariance matrix of the errors is correctly specified.\n",
              "\"\"\""
            ]
          },
          "execution_count": 87,
          "metadata": {},
          "output_type": "execute_result"
        }
      ],
      "source": [
        "X_opt = X[:, [0, 3, 5]]\n",
        "regressor_OLS = sm.OLS(endog=y, exog=X_opt).fit()\n",
        "regressor_OLS.summary()"
      ]
    },
    {
      "cell_type": "code",
      "execution_count": null,
      "id": "3dd7862a",
      "metadata": {
        "id": "3dd7862a",
        "outputId": "9e15a21a-7ae6-4521-d648-6ba4a122ca74"
      },
      "outputs": [
        {
          "data": {
            "text/html": [
              "<table class=\"simpletable\">\n",
              "<caption>OLS Regression Results</caption>\n",
              "<tr>\n",
              "  <th>Dep. Variable:</th>            <td>y</td>        <th>  R-squared:         </th> <td>   0.050</td>\n",
              "</tr>\n",
              "<tr>\n",
              "  <th>Model:</th>                   <td>OLS</td>       <th>  Adj. R-squared:    </th> <td>   0.030</td>\n",
              "</tr>\n",
              "<tr>\n",
              "  <th>Method:</th>             <td>Least Squares</td>  <th>  F-statistic:       </th> <td>   2.532</td>\n",
              "</tr>\n",
              "<tr>\n",
              "  <th>Date:</th>             <td>Mon, 12 Jun 2023</td> <th>  Prob (F-statistic):</th>  <td> 0.118</td> \n",
              "</tr>\n",
              "<tr>\n",
              "  <th>Time:</th>                 <td>20:50:04</td>     <th>  Log-Likelihood:    </th> <td> -599.37</td>\n",
              "</tr>\n",
              "<tr>\n",
              "  <th>No. Observations:</th>      <td>    50</td>      <th>  AIC:               </th> <td>   1203.</td>\n",
              "</tr>\n",
              "<tr>\n",
              "  <th>Df Residuals:</th>          <td>    48</td>      <th>  BIC:               </th> <td>   1207.</td>\n",
              "</tr>\n",
              "<tr>\n",
              "  <th>Df Model:</th>              <td>     1</td>      <th>                     </th>     <td> </td>   \n",
              "</tr>\n",
              "<tr>\n",
              "  <th>Covariance Type:</th>      <td>nonrobust</td>    <th>                     </th>     <td> </td>   \n",
              "</tr>\n",
              "</table>\n",
              "<table class=\"simpletable\">\n",
              "<tr>\n",
              "    <td></td>       <th>coef</th>     <th>std err</th>      <th>t</th>      <th>P>|t|</th>  <th>[0.025</th>    <th>0.975]</th>  \n",
              "</tr>\n",
              "<tr>\n",
              "  <th>const</th> <td> 1.133e+05</td> <td> 5670.069</td> <td>   19.980</td> <td> 0.000</td> <td> 1.02e+05</td> <td> 1.25e+05</td>\n",
              "</tr>\n",
              "<tr>\n",
              "  <th>x1</th>    <td> -6.38e+04</td> <td> 4.01e+04</td> <td>   -1.591</td> <td> 0.118</td> <td>-1.44e+05</td> <td> 1.68e+04</td>\n",
              "</tr>\n",
              "</table>\n",
              "<table class=\"simpletable\">\n",
              "<tr>\n",
              "  <th>Omnibus:</th>       <td> 0.164</td> <th>  Durbin-Watson:     </th> <td>   0.114</td>\n",
              "</tr>\n",
              "<tr>\n",
              "  <th>Prob(Omnibus):</th> <td> 0.921</td> <th>  Jarque-Bera (JB):  </th> <td>   0.001</td>\n",
              "</tr>\n",
              "<tr>\n",
              "  <th>Skew:</th>          <td> 0.009</td> <th>  Prob(JB):          </th> <td>    1.00</td>\n",
              "</tr>\n",
              "<tr>\n",
              "  <th>Kurtosis:</th>      <td> 2.989</td> <th>  Cond. No.          </th> <td>    7.15</td>\n",
              "</tr>\n",
              "</table><br/><br/>Notes:<br/>[1] Standard Errors assume that the covariance matrix of the errors is correctly specified."
            ],
            "text/plain": [
              "<class 'statsmodels.iolib.summary.Summary'>\n",
              "\"\"\"\n",
              "                            OLS Regression Results                            \n",
              "==============================================================================\n",
              "Dep. Variable:                      y   R-squared:                       0.050\n",
              "Model:                            OLS   Adj. R-squared:                  0.030\n",
              "Method:                 Least Squares   F-statistic:                     2.532\n",
              "Date:                Mon, 12 Jun 2023   Prob (F-statistic):              0.118\n",
              "Time:                        20:50:04   Log-Likelihood:                -599.37\n",
              "No. Observations:                  50   AIC:                             1203.\n",
              "Df Residuals:                      48   BIC:                             1207.\n",
              "Df Model:                           1                                         \n",
              "Covariance Type:            nonrobust                                         \n",
              "==============================================================================\n",
              "                 coef    std err          t      P>|t|      [0.025      0.975]\n",
              "------------------------------------------------------------------------------\n",
              "const       1.133e+05   5670.069     19.980      0.000    1.02e+05    1.25e+05\n",
              "x1          -6.38e+04   4.01e+04     -1.591      0.118   -1.44e+05    1.68e+04\n",
              "==============================================================================\n",
              "Omnibus:                        0.164   Durbin-Watson:                   0.114\n",
              "Prob(Omnibus):                  0.921   Jarque-Bera (JB):                0.001\n",
              "Skew:                           0.009   Prob(JB):                         1.00\n",
              "Kurtosis:                       2.989   Cond. No.                         7.15\n",
              "==============================================================================\n",
              "\n",
              "Notes:\n",
              "[1] Standard Errors assume that the covariance matrix of the errors is correctly specified.\n",
              "\"\"\""
            ]
          },
          "execution_count": 88,
          "metadata": {},
          "output_type": "execute_result"
        }
      ],
      "source": [
        "X_opt = X[:, [0, 3]]\n",
        "regressor_OLS = sm.OLS(endog=y, exog=X_opt).fit()\n",
        "regressor_OLS.summary()"
      ]
    },
    {
      "cell_type": "markdown",
      "id": "432e223b",
      "metadata": {
        "id": "432e223b"
      },
      "source": [
        "1. Two input features (Product_3 and Location); 1 output represents the estimated profit based on these two features."
      ]
    },
    {
      "cell_type": "code",
      "execution_count": null,
      "id": "892b4754",
      "metadata": {
        "id": "892b4754"
      },
      "outputs": [],
      "source": [
        "X = dataset[['Product_3', 'Location']].values\n",
        "y = dataset['Profit'].values\n",
        "X[:, 1] = labelencoder_X.fit_transform(X[:, 1])\n",
        "X = onehotencoder.fit_transform(X).toarray()\n",
        "X = X[:, 1:]"
      ]
    },
    {
      "cell_type": "code",
      "execution_count": null,
      "id": "940f933a",
      "metadata": {
        "id": "940f933a",
        "outputId": "9c004352-8c9f-47a5-dc1d-d4806c44ff27"
      },
      "outputs": [
        {
          "data": {
            "text/plain": [
              "array([102284.64605183, 133873.92383812, 134182.1495165 ,  73701.1069363 ,\n",
              "       180642.25299736, 114717.24903894,  68335.07575312,  97433.45922275,\n",
              "       114580.92136452, 170343.31979498])"
            ]
          },
          "execution_count": 97,
          "metadata": {},
          "output_type": "execute_result"
        }
      ],
      "source": [
        "X_train, X_test, y_train, y_test = train_test_split(X, y, test_size=0.2, random_state=0)\n",
        "regressor.fit(X_train, y_train)\n",
        "y_pred = regressor.predict(X_test)\n",
        "y_pred"
      ]
    },
    {
      "cell_type": "code",
      "execution_count": null,
      "id": "a1e38e08",
      "metadata": {
        "id": "a1e38e08",
        "outputId": "7f6dc68b-790c-4bd8-dbd5-c5deead91af6"
      },
      "outputs": [
        {
          "data": {
            "text/plain": [
              "array([103282.38, 144259.4 , 146121.95,  77798.83, 191050.39, 105008.31,\n",
              "        81229.06,  97483.56, 110352.25, 166187.94])"
            ]
          },
          "execution_count": 98,
          "metadata": {},
          "output_type": "execute_result"
        }
      ],
      "source": [
        "y_test"
      ]
    },
    {
      "cell_type": "markdown",
      "id": "d9a2f23e",
      "metadata": {
        "id": "d9a2f23e"
      },
      "source": [
        "2. Two input features (Product_1 and Product_3); 1 output represents the estimated profit based on these two features.\n"
      ]
    },
    {
      "cell_type": "code",
      "execution_count": null,
      "id": "cdbe92de",
      "metadata": {
        "id": "cdbe92de"
      },
      "outputs": [],
      "source": [
        "X = dataset[['Product_1', 'Product_3']].values\n",
        "y = dataset['Profit'].values"
      ]
    },
    {
      "cell_type": "code",
      "execution_count": null,
      "id": "6737a82b",
      "metadata": {
        "id": "6737a82b"
      },
      "outputs": [],
      "source": [
        "X_train, X_test, y_train, y_test = train_test_split(X, y, test_size=0.2, random_state=0)"
      ]
    },
    {
      "cell_type": "code",
      "execution_count": null,
      "id": "ec496118",
      "metadata": {
        "id": "ec496118",
        "outputId": "e5287d2e-8e0a-4aa5-92a4-b0d0dd5b2e5b"
      },
      "outputs": [
        {
          "data": {
            "text/plain": [
              "array([102284.64605183, 133873.92383812, 134182.1495165 ,  73701.1069363 ,\n",
              "       180642.25299736, 114717.24903894,  68335.07575312,  97433.45922275,\n",
              "       114580.92136452, 170343.31979498])"
            ]
          },
          "execution_count": 99,
          "metadata": {},
          "output_type": "execute_result"
        }
      ],
      "source": [
        "regressor.fit(X_train, y_train)\n",
        "y_pred = regressor.predict(X_test)\n",
        "y_pred\n"
      ]
    },
    {
      "cell_type": "code",
      "execution_count": null,
      "id": "ee6c53a5",
      "metadata": {
        "id": "ee6c53a5",
        "outputId": "bef41d22-203f-44dd-e468-0e8326a290f1"
      },
      "outputs": [
        {
          "data": {
            "text/plain": [
              "array([103282.38, 144259.4 , 146121.95,  77798.83, 191050.39, 105008.31,\n",
              "        81229.06,  97483.56, 110352.25, 166187.94])"
            ]
          },
          "execution_count": 100,
          "metadata": {},
          "output_type": "execute_result"
        }
      ],
      "source": [
        "y_test"
      ]
    },
    {
      "cell_type": "code",
      "execution_count": null,
      "id": "a0bb6497",
      "metadata": {
        "id": "a0bb6497"
      },
      "outputs": [],
      "source": []
    }
  ],
  "metadata": {
    "kernelspec": {
      "display_name": "Python 3 (ipykernel)",
      "language": "python",
      "name": "python3"
    },
    "language_info": {
      "codemirror_mode": {
        "name": "ipython",
        "version": 3
      },
      "file_extension": ".py",
      "mimetype": "text/x-python",
      "name": "python",
      "nbconvert_exporter": "python",
      "pygments_lexer": "ipython3",
      "version": "3.9.13"
    },
    "colab": {
      "provenance": [],
      "include_colab_link": true
    }
  },
  "nbformat": 4,
  "nbformat_minor": 5
}